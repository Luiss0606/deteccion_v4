{
 "cells": [
  {
   "cell_type": "code",
   "execution_count": 6,
   "metadata": {},
   "outputs": [
    {
     "name": "stdout",
     "output_type": "stream",
     "text": [
      "hola \n",
      "hola asdasdasd\n"
     ]
    }
   ],
   "source": [
    "with open('hola.txt', 'w') as f:\n",
    "    f.write('hola \\n')\n",
    "    f.write('hola asdasdasd')\n",
    "    #mostrar lo que hay en el archivo\n",
    "print(open('hola.txt').read())"
   ]
  },
  {
   "cell_type": "code",
   "execution_count": 6,
   "metadata": {},
   "outputs": [
    {
     "name": "stdout",
     "output_type": "stream",
     "text": [
      "La suma total es: 499999500000\n",
      "El tiempo de ejecución fue de 0.12192893028259277 segundos\n",
      "El tiempo de ejecución fue de 121.92893028259277 milisegundos\n"
     ]
    }
   ],
   "source": [
    "import time\n",
    "\n",
    "tiempo_inicio = time.time()\n",
    "\n",
    "# Aquí va el código que quieres medir\n",
    "suma = 0\n",
    "for i in range(1000000):\n",
    "    suma += i\n",
    "\n",
    "tiempo_fin = time.time()\n",
    "\n",
    "tiempo_total = tiempo_fin - tiempo_inicio\n",
    "\n",
    "print(\"La suma total es:\", suma)\n",
    "print(\"El tiempo de ejecución fue de\", tiempo_total, \"segundos\")\n",
    "# En milisegundos\n",
    "print(\"El tiempo de ejecución fue de\", tiempo_total * 1000, \"milisegundos\")"
   ]
  },
  {
   "cell_type": "code",
   "execution_count": 5,
   "metadata": {},
   "outputs": [
    {
     "name": "stdout",
     "output_type": "stream",
     "text": [
      "La suma total es: 499999500000\n",
      "El tiempo de ejecución fue de 0.126935 segundos\n"
     ]
    }
   ],
   "source": [
    "import datetime\n",
    "\n",
    "ahora_utc = datetime.datetime.utcnow()\n",
    "\n",
    "suma = 0\n",
    "for i in range(1000000):\n",
    "    suma += i\n",
    "\n",
    "despues_utc = datetime.datetime.utcnow()\n",
    "\n",
    "\n",
    "# Difference between two datetime objects\n",
    "diferencia = despues_utc - ahora_utc\n",
    "\n",
    "print(\"La suma total es:\", suma)\n",
    "print(\"El tiempo de ejecución fue de\", diferencia.total_seconds(), \"segundos\")"
   ]
  }
 ],
 "metadata": {
  "kernelspec": {
   "display_name": "yolov8",
   "language": "python",
   "name": "python3"
  },
  "language_info": {
   "codemirror_mode": {
    "name": "ipython",
    "version": 3
   },
   "file_extension": ".py",
   "mimetype": "text/x-python",
   "name": "python",
   "nbconvert_exporter": "python",
   "pygments_lexer": "ipython3",
   "version": "3.9.0"
  },
  "orig_nbformat": 4
 },
 "nbformat": 4,
 "nbformat_minor": 2
}
